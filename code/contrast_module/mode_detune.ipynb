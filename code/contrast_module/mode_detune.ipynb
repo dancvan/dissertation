{
 "cells": [
  {
   "cell_type": "code",
   "execution_count": 1,
   "id": "3f58fd88-aad7-46cf-867f-a72a1c08ae08",
   "metadata": {},
   "outputs": [],
   "source": [
    "import numpy as np\n",
    "import matplotlib.pyplot as plt\n",
    "import os"
   ]
  },
  {
   "cell_type": "code",
   "execution_count": 2,
   "id": "1d688ca9-9006-4cbc-a955-8a8240705bc8",
   "metadata": {},
   "outputs": [],
   "source": [
    "plt_style_dir = '../../stash/'"
   ]
  },
  {
   "cell_type": "code",
   "execution_count": 3,
   "id": "87a51ef0-b46b-4d78-8b88-0e4aea39ee0a",
   "metadata": {},
   "outputs": [],
   "source": [
    "if os.path.isdir(plt_style_dir) == True:\n",
    "    plt.style.use(plt_style_dir + 'ppt2latexsubfig.mplstyle')"
   ]
  },
  {
   "cell_type": "markdown",
   "id": "efd0df6c-d61e-46e3-9467-31cb7cb50496",
   "metadata": {},
   "source": [
    "### Method:\n",
    "    * Establish field form (TEM00) Gaussian beam\n",
    "    * Mode Matching configuration 1 \n",
    "        * Overlap 1\n",
    "    * Mode Matching configuration 2\n",
    "        * Overlap 2\n",
    "    * Effect of power with differing arm lengths"
   ]
  },
  {
   "cell_type": "markdown",
   "id": "36b6022d-c2b1-4247-aa02-fadb1912ba0f",
   "metadata": {},
   "source": [
    "## Params"
   ]
  },
  {
   "cell_type": "code",
   "execution_count": 4,
   "id": "3eda8512-5d2f-46b9-b00a-5aa6af52ceca",
   "metadata": {},
   "outputs": [
    {
     "ename": "SyntaxError",
     "evalue": "invalid syntax (4278199866.py, line 4)",
     "output_type": "error",
     "traceback": [
      "\u001b[0;36m  Cell \u001b[0;32mIn[4], line 4\u001b[0;36m\u001b[0m\n\u001b[0;31m    W_0 =                           # Beam waist size\u001b[0m\n\u001b[0m                                    ^\u001b[0m\n\u001b[0;31mSyntaxError\u001b[0m\u001b[0;31m:\u001b[0m invalid syntax\n"
     ]
    }
   ],
   "source": [
    "E_0 = 1                         # field amplitude\n",
    "lambda_0= 1064e-9               # wavelength\n",
    "k = 2*np.pi / lambda_0          # wavenumber\n",
    "W_0 =                           # Beam waist size\n",
    "z_0 = ((W_0)**2*np.pi)/lambda_0 # Rayleigh range (determined from characteristic waist size)\n",
    "zeta = lambda z : np.arctan(z / z_0)   # Gouy phase\n",
    "R = lambda z : z*(1 + (z_0/z)**2)      # Z ROC as a function of z"
   ]
  },
  {
   "cell_type": "code",
   "execution_count": null,
   "id": "cb444021-b147-477a-9ca6-9d4a2abf0167",
   "metadata": {},
   "outputs": [],
   "source": [
    "def E_gen(E_0, z, z0, W0, lambd):\n",
    "    trm1 = E_0\n",
    "    W = lambda W_0 , z_0 : W_0(1 + (z/z_0)**2)**.5\n",
    "    trm2 = W_0/W(z)\n",
    "    trm3 = np.exp(-(r**2)/(W(z))**2)\n",
    "    trm4 = np.exp(-1j*((2*np.pi)/lambd)*(1+"
   ]
  },
  {
   "cell_type": "code",
   "execution_count": null,
   "id": "dd7b8619-ab64-421f-8d25-526b3051ef6d",
   "metadata": {},
   "outputs": [],
   "source": []
  },
  {
   "cell_type": "code",
   "execution_count": null,
   "id": "89fb78ed-d2e0-4786-99c0-e7c514628b28",
   "metadata": {},
   "outputs": [],
   "source": [
    "## Defining static field (E_x) and swept field (E_y) over length n*lambd\n",
    "E_x = E_0*(W_0/W(z))\n",
    "E_y = E_0*"
   ]
  },
  {
   "cell_type": "code",
   "execution_count": null,
   "id": "32c0cbc1-a50f-4ee2-a56e-0335fdc942b8",
   "metadata": {},
   "outputs": [],
   "source": [
    "## Performing the (two-dimensional) auto-coorelation?"
   ]
  }
 ],
 "metadata": {
  "kernelspec": {
   "display_name": "Python 3 (ipykernel)",
   "language": "python",
   "name": "python3"
  },
  "language_info": {
   "codemirror_mode": {
    "name": "ipython",
    "version": 3
   },
   "file_extension": ".py",
   "mimetype": "text/x-python",
   "name": "python",
   "nbconvert_exporter": "python",
   "pygments_lexer": "ipython3",
   "version": "3.10.11"
  }
 },
 "nbformat": 4,
 "nbformat_minor": 5
}
